{
 "cells": [
  {
   "cell_type": "code",
   "execution_count": 1,
   "metadata": {},
   "outputs": [],
   "source": [
    "from transformers import pipeline \n",
    "import torch"
   ]
  },
  {
   "cell_type": "code",
   "execution_count": 6,
   "metadata": {},
   "outputs": [],
   "source": [
    "summarizer = pipeline(task=\"summarization\", model=\"facebook/bart-large-cnn\", torch_dtype=torch.bfloat16) "
   ]
  },
  {
   "cell_type": "code",
   "execution_count": 7,
   "metadata": {},
   "outputs": [],
   "source": [
    "text = ''' Socrates, the revered philosopher of ancient Greece, is celebrated for his profound contributions to Western philosophy. Born circa 470 BCE in Athens, Socrates is renowned for his revolutionary approach to philosophical inquiry, characterized by his relentless pursuit of truth and virtue through dialogue and questioning. Rejecting the prevailing belief in absolute knowledge, Socrates famously declared, \"I know that I know nothing,\" emphasizing humility and intellectual humility. He spent much of his life engaging in philosophical conversations with fellow citizens, challenging conventional wisdom and exposing contradictions in societal norms. Despite facing opposition and ultimately being sentenced to death by the Athenian authorities, Socrates' enduring legacy lies in his commitment to critical thinking, moral integrity, and the enduring quest for wisdom. His teachings, as transmitted through the works of his disciple Plato, continue to inspire and provoke contemplation in the modern world.'''"
   ]
  },
  {
   "cell_type": "code",
   "execution_count": 8,
   "metadata": {},
   "outputs": [],
   "source": [
    "summary = summarizer(text, min_length=10, max_length=100)"
   ]
  },
  {
   "cell_type": "code",
   "execution_count": 9,
   "metadata": {},
   "outputs": [
    {
     "data": {
      "text/plain": [
       "[{'summary_text': 'Socrates is renowned for his revolutionary approach to philosophical inquiry. Rejecting the prevailing belief in absolute knowledge, Socrates famously declared, \"I know that I know nothing\" His teachings, as transmitted through the works of his disciple Plato, continue to inspire and provoke contemplation in the modern world.'}]"
      ]
     },
     "execution_count": 9,
     "metadata": {},
     "output_type": "execute_result"
    }
   ],
   "source": [
    "summary"
   ]
  }
 ],
 "metadata": {
  "kernelspec": {
   "display_name": ".env",
   "language": "python",
   "name": "python3"
  },
  "language_info": {
   "codemirror_mode": {
    "name": "ipython",
    "version": 3
   },
   "file_extension": ".py",
   "mimetype": "text/x-python",
   "name": "python",
   "nbconvert_exporter": "python",
   "pygments_lexer": "ipython3",
   "version": "3.11.5"
  }
 },
 "nbformat": 4,
 "nbformat_minor": 2
}
